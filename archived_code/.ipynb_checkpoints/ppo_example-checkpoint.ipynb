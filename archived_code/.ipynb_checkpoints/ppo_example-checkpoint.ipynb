{
 "cells": [
  {
   "cell_type": "code",
   "execution_count": 2,
   "id": "8710a377-5289-4a1b-9eba-aa604a2c0b6e",
   "metadata": {},
   "outputs": [],
   "source": [
    "import gymnasium as gym\n",
    "env_train = gym.make('CartPole-v1')\n",
    "env_test = gym.make('CartPole-v1')"
   ]
  },
  {
   "cell_type": "code",
   "execution_count": 3,
   "id": "c163bcd0-29fc-4112-9073-8f5fff2972d7",
   "metadata": {},
   "outputs": [
    {
     "ename": "NameError",
     "evalue": "name 'nn' is not defined",
     "output_type": "error",
     "traceback": [
      "\u001b[0;31m---------------------------------------------------------------------------\u001b[0m",
      "\u001b[0;31mNameError\u001b[0m                                 Traceback (most recent call last)",
      "Cell \u001b[0;32mIn[3], line 1\u001b[0m\n\u001b[0;32m----> 1\u001b[0m \u001b[38;5;28;01mclass\u001b[39;00m\u001b[38;5;250m \u001b[39m\u001b[38;5;21;01mBackboneNetwork\u001b[39;00m(\u001b[43mnn\u001b[49m\u001b[38;5;241m.\u001b[39mModule):\n\u001b[1;32m      2\u001b[0m     \u001b[38;5;28;01mdef\u001b[39;00m\u001b[38;5;250m \u001b[39m\u001b[38;5;21m__init__\u001b[39m(\u001b[38;5;28mself\u001b[39m, in_features, hidden_dimensions, out_features, dropout):\n\u001b[1;32m      3\u001b[0m         \u001b[38;5;28msuper\u001b[39m()\u001b[38;5;241m.\u001b[39m\u001b[38;5;21m__init__\u001b[39m()\n",
      "\u001b[0;31mNameError\u001b[0m: name 'nn' is not defined"
     ]
    }
   ],
   "source": [
    "class BackboneNetwork(nn.Module):\n",
    "    def __init__(self, in_features, hidden_dimensions, out_features, dropout):\n",
    "        super().__init__()\n",
    "        self.layer1 = nn.Linear(in_features, hidden_dimensions)\n",
    "        self.layer2 = nn.Linear(hidden_dimensions, hidden_dimensions)\n",
    "        self.layer3 = nn.Linear(hidden_dimensions, out_features)\n",
    "        self.dropout = nn.Dropout(dropout)\n",
    "    def forward(self, x):\n",
    "        x = self.layer1(x)\n",
    "        x = f.relu(x)\n",
    "        x = self.dropout(x)\n",
    "        x = self.layer2(x)\n",
    "        x = f.relu(x)\n",
    "        x = self.dropout(x)\n",
    "        x = self.layer3(x)\n",
    "        return x"
   ]
  },
  {
   "cell_type": "code",
   "execution_count": 4,
   "id": "6189114a-b26f-4854-9e7d-b1c143e09896",
   "metadata": {},
   "outputs": [
    {
     "ename": "NameError",
     "evalue": "name 'nn' is not defined",
     "output_type": "error",
     "traceback": [
      "\u001b[0;31m---------------------------------------------------------------------------\u001b[0m",
      "\u001b[0;31mNameError\u001b[0m                                 Traceback (most recent call last)",
      "Cell \u001b[0;32mIn[4], line 1\u001b[0m\n\u001b[0;32m----> 1\u001b[0m \u001b[38;5;28;01mclass\u001b[39;00m\u001b[38;5;250m \u001b[39m\u001b[38;5;21;01mActorCritic\u001b[39;00m(\u001b[43mnn\u001b[49m\u001b[38;5;241m.\u001b[39mModule):\n\u001b[1;32m      2\u001b[0m     \u001b[38;5;28;01mdef\u001b[39;00m\u001b[38;5;250m \u001b[39m\u001b[38;5;21m__init__\u001b[39m(\u001b[38;5;28mself\u001b[39m, actor, critic):\n\u001b[1;32m      3\u001b[0m         \u001b[38;5;28msuper\u001b[39m()\u001b[38;5;241m.\u001b[39m\u001b[38;5;21m__init__\u001b[39m()\n",
      "\u001b[0;31mNameError\u001b[0m: name 'nn' is not defined"
     ]
    }
   ],
   "source": [
    "class ActorCritic(nn.Module):\n",
    "    def __init__(self, actor, critic):\n",
    "        super().__init__()\n",
    "        self.actor = actor\n",
    "        self.critic = critic\n",
    "    def forward(self, state):\n",
    "        action_pred = self.actor(state)\n",
    "        value_pred = self.critic(state)\n",
    "        return action_pred, value_pred"
   ]
  },
  {
   "cell_type": "code",
   "execution_count": 5,
   "id": "d5800f78-233d-477c-b41e-fbfbdbf3e873",
   "metadata": {},
   "outputs": [],
   "source": [
    "def create_agent(hidden_dimensions, dropout):\n",
    "    INPUT_FEATURES = env_train.observation_space.shape[0]\n",
    "    HIDDEN_DIMENSIONS = hidden_dimensions\n",
    "    ACTOR_OUTPUT_FEATURES = env_train.action_space.n\n",
    "    CRITIC_OUTPUT_FEATURES = 1\n",
    "    DROPOUT = dropout\n",
    "    actor = BackboneNetwork(\n",
    "            INPUT_FEATURES, HIDDEN_DIMENSIONS, ACTOR_OUTPUT_FEATURES, DROPOUT)\n",
    "    critic = BackboneNetwork(\n",
    "            INPUT_FEATURES, HIDDEN_DIMENSIONS, CRITIC_OUTPUT_FEATURES, DROPOUT)\n",
    "    agent = ActorCritic(actor, critic)\n",
    "    return agent"
   ]
  },
  {
   "cell_type": "code",
   "execution_count": null,
   "id": "b54a73cd-eb1d-4d2b-942a-21373c8980aa",
   "metadata": {},
   "outputs": [],
   "source": [
    "def calculate_returns(rewards, discount_factor):\n",
    "    returns = []\n",
    "    cumulative_reward = 0\n",
    "    for r in reversed(rewards):\n",
    "        cumulative_reward = r + cumulative_reward * discount_factor\n",
    "        returns.insert(0, cumulative_reward)\n",
    "    returns = torch.tensor(returns)\n",
    "    # normalize the return\n",
    "    returns = (returns - returns.mean()) / returns.std()\n",
    "    return returns"
   ]
  }
 ],
 "metadata": {
  "kernelspec": {
   "display_name": "jupyter_env",
   "language": "python",
   "name": "jupyter_env"
  },
  "language_info": {
   "codemirror_mode": {
    "name": "ipython",
    "version": 3
   },
   "file_extension": ".py",
   "mimetype": "text/x-python",
   "name": "python",
   "nbconvert_exporter": "python",
   "pygments_lexer": "ipython3",
   "version": "3.10.12"
  }
 },
 "nbformat": 4,
 "nbformat_minor": 5
}
