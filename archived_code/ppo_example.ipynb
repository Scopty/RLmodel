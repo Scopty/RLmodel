{
 "cells": [
  {
   "cell_type": "code",
   "execution_count": 2,
   "id": "8710a377-5289-4a1b-9eba-aa604a2c0b6e",
   "metadata": {},
   "outputs": [],
   "source": [
    "import gymnasium as gym\n",
    "env_train = gym.make('CartPole-v1')\n",
    "env_test = gym.make('CartPole-v1')"
   ]
  },
  {
   "cell_type": "code",
   "execution_count": 22,
   "id": "8d7f624a-0e9c-4a4c-bc3f-176542a02a3c",
   "metadata": {},
   "outputs": [],
   "source": [
    "import torch\n",
    "import torch.nn as nn\n",
    "import torch.optim as optim\n"
   ]
  },
  {
   "cell_type": "code",
   "execution_count": 19,
   "id": "c163bcd0-29fc-4112-9073-8f5fff2972d7",
   "metadata": {},
   "outputs": [],
   "source": [
    "class BackboneNetwork(nn.Module):\n",
    "    def __init__(self, in_features, hidden_dimensions, out_features, dropout):\n",
    "        super().__init__()\n",
    "        self.layer1 = nn.Linear(in_features, hidden_dimensions)\n",
    "        self.layer2 = nn.Linear(hidden_dimensions, hidden_dimensions)\n",
    "        self.layer3 = nn.Linear(hidden_dimensions, out_features)\n",
    "        self.dropout = nn.Dropout(dropout)\n",
    "    def forward(self, x):\n",
    "        x = self.layer1(x)\n",
    "        x = f.relu(x)\n",
    "        x = self.dropout(x)\n",
    "        x = self.layer2(x)\n",
    "        x = f.relu(x)\n",
    "        x = self.dropout(x)\n",
    "        x = self.layer3(x)\n",
    "        return x"
   ]
  },
  {
   "cell_type": "code",
   "execution_count": 20,
   "id": "6189114a-b26f-4854-9e7d-b1c143e09896",
   "metadata": {},
   "outputs": [],
   "source": [
    "class ActorCritic(nn.Module):\n",
    "    def __init__(self, actor, critic):\n",
    "        super().__init__()\n",
    "        self.actor = actor\n",
    "        self.critic = critic\n",
    "    def forward(self, state):\n",
    "        action_pred = self.actor(state)\n",
    "        value_pred = self.critic(state)\n",
    "        return action_pred, value_pred"
   ]
  },
  {
   "cell_type": "code",
   "execution_count": 5,
   "id": "d5800f78-233d-477c-b41e-fbfbdbf3e873",
   "metadata": {},
   "outputs": [],
   "source": [
    "def create_agent(hidden_dimensions, dropout):\n",
    "    INPUT_FEATURES = env_train.observation_space.shape[0]\n",
    "    HIDDEN_DIMENSIONS = hidden_dimensions\n",
    "    ACTOR_OUTPUT_FEATURES = env_train.action_space.n\n",
    "    CRITIC_OUTPUT_FEATURES = 1\n",
    "    DROPOUT = dropout\n",
    "    actor = BackboneNetwork(\n",
    "            INPUT_FEATURES, HIDDEN_DIMENSIONS, ACTOR_OUTPUT_FEATURES, DROPOUT)\n",
    "    critic = BackboneNetwork(\n",
    "            INPUT_FEATURES, HIDDEN_DIMENSIONS, CRITIC_OUTPUT_FEATURES, DROPOUT)\n",
    "    agent = ActorCritic(actor, critic)\n",
    "    return agent"
   ]
  },
  {
   "cell_type": "code",
   "execution_count": null,
   "id": "b54a73cd-eb1d-4d2b-942a-21373c8980aa",
   "metadata": {},
   "outputs": [],
   "source": [
    "def calculate_returns(rewards, discount_factor):\n",
    "    returns = []\n",
    "    cumulative_reward = 0\n",
    "    for r in reversed(rewards):\n",
    "        cumulative_reward = r + cumulative_reward * discount_factor\n",
    "        returns.insert(0, cumulative_reward)\n",
    "    returns = torch.tensor(returns)\n",
    "    # normalize the return\n",
    "    returns = (returns - returns.mean()) / returns.std()\n",
    "    return returns"
   ]
  },
  {
   "cell_type": "code",
   "execution_count": 6,
   "id": "bba7001e-9765-4447-a5c2-f09b628641c0",
   "metadata": {},
   "outputs": [],
   "source": [
    "def calculate_advantages(returns, values):\n",
    "    advantages = returns - values\n",
    "    # Normalize the advantage\n",
    "    advantages = (advantages - advantages.mean()) / advantages.std()\n",
    "    return advantages"
   ]
  },
  {
   "cell_type": "code",
   "execution_count": 7,
   "id": "de8608ad-3e6d-497e-9e6f-af6fcb34983e",
   "metadata": {},
   "outputs": [],
   "source": [
    "def calculate_surrogate_loss(\n",
    "        actions_log_probability_old,\n",
    "        actions_log_probability_new,\n",
    "        epsilon,\n",
    "        advantages):\n",
    "    advantages = advantages.detach()\n",
    "    policy_ratio = (\n",
    "            actions_log_probability_new - actions_log_probability_old\n",
    "            ).exp()\n",
    "    surrogate_loss_1 = policy_ratio * advantages\n",
    "    surrogate_loss_2 = torch.clamp(\n",
    "            policy_ratio, min=1.0-epsilon, max=1.0+epsilon\n",
    "            ) * advantages\n",
    "    surrogate_loss = torch.min(surrogate_loss_1, surrogate_loss_2)\n",
    "    return surrogate_loss"
   ]
  },
  {
   "cell_type": "code",
   "execution_count": 8,
   "id": "688f1a0c-f417-442e-95b2-30a2684ec196",
   "metadata": {},
   "outputs": [],
   "source": [
    "def calculate_losses(\n",
    "        surrogate_loss, entropy, entropy_coefficient, returns, value_pred):\n",
    "    entropy_bonus = entropy_coefficient * entropy\n",
    "    policy_loss = -(surrogate_loss + entropy_bonus).sum()\n",
    "    value_loss = f.smooth_l1_loss(returns, value_pred).sum()\n",
    "    return policy_loss, value_loss"
   ]
  },
  {
   "cell_type": "code",
   "execution_count": 9,
   "id": "27670e46-96a2-4973-8860-38df581ed97d",
   "metadata": {},
   "outputs": [],
   "source": [
    "def init_training():\n",
    "    states = []\n",
    "    actions = []\n",
    "    actions_log_probability = []\n",
    "    values = []\n",
    "    rewards = []\n",
    "    done = False\n",
    "    episode_reward = 0\n",
    "    return states, actions, actions_log_probability, values, rewards, done, episode_reward"
   ]
  },
  {
   "cell_type": "code",
   "execution_count": 10,
   "id": "60cefc76-6e41-4a5f-a19c-830a0c3672ee",
   "metadata": {},
   "outputs": [],
   "source": [
    "def forward_pass(env, agent, optimizer, discount_factor):\n",
    "    states, actions, actions_log_probability, values, rewards, done, episode_reward = init_training()\n",
    "    state = env.reset()\n",
    "    agent.train()\n",
    "    while not done:\n",
    "        state = torch.FloatTensor(state).unsqueeze(0)\n",
    "        states.append(state)\n",
    "        action_pred, value_pred = agent(state)\n",
    "        action_prob = f.softmax(action_pred, dim=-1)\n",
    "        dist = distributions.Categorical(action_prob)\n",
    "        action = dist.sample()\n",
    "        log_prob_action = dist.log_prob(action)\n",
    "        state, reward, done, _ = env.step(action.item())\n",
    "        actions.append(action)\n",
    "        actions_log_probability.append(log_prob_action)\n",
    "        values.append(value_pred)\n",
    "        rewards.append(reward)\n",
    "        episode_reward += reward\n",
    "    states = torch.cat(states)\n",
    "    actions = torch.cat(actions)\n",
    "    actions_log_probability = torch.cat(actions_log_probability)\n",
    "    values = torch.cat(values).squeeze(-1)\n",
    "    returns = calculate_returns(rewards, discount_factor)\n",
    "    advantages = calculate_advantages(returns, values)\n",
    "    return episode_reward, states, actions, actions_log_probability, advantages, returns"
   ]
  },
  {
   "cell_type": "code",
   "execution_count": 11,
   "id": "b6ad98d5-fdc9-4330-81fe-61ca88b9dd3e",
   "metadata": {},
   "outputs": [],
   "source": [
    "def update_policy(\n",
    "        agent,\n",
    "        states,\n",
    "        actions,\n",
    "        actions_log_probability_old,\n",
    "        advantages,\n",
    "        returns,\n",
    "        optimizer,\n",
    "        ppo_steps,\n",
    "        epsilon,\n",
    "        entropy_coefficient):\n",
    "    BATCH_SIZE = 128\n",
    "    total_policy_loss = 0\n",
    "    total_value_loss = 0\n",
    "    actions_log_probability_old = actions_log_probability_old.detach()\n",
    "    actions = actions.detach()\n",
    "    training_results_dataset = TensorDataset(\n",
    "            states,\n",
    "            actions,\n",
    "            actions_log_probability_old,\n",
    "            advantages,\n",
    "            returns)\n",
    "    batch_dataset = DataLoader(\n",
    "            training_results_dataset,\n",
    "            batch_size=BATCH_SIZE,\n",
    "            shuffle=False)\n",
    "    for _ in range(ppo_steps):\n",
    "        for batch_idx, (states, actions, actions_log_probability_old, advantages, returns) in enumerate(batch_dataset):\n",
    "            # get new log prob of actions for all input states\n",
    "            action_pred, value_pred = agent(states)\n",
    "            value_pred = value_pred.squeeze(-1)\n",
    "            action_prob = f.softmax(action_pred, dim=-1)\n",
    "            probability_distribution_new = distributions.Categorical(\n",
    "                    action_prob)\n",
    "            entropy = probability_distribution_new.entropy()\n",
    "            # estimate new log probabilities using old actions\n",
    "            actions_log_probability_new = probability_distribution_new.log_prob(actions)\n",
    "            surrogate_loss = calculate_surrogate_loss(\n",
    "                    actions_log_probability_old,\n",
    "                    actions_log_probability_new,\n",
    "                    epsilon,\n",
    "                    advantages)\n",
    "            policy_loss, value_loss = calculate_losses(\n",
    "                    surrogate_loss,\n",
    "                    entropy,\n",
    "                    entropy_coefficient,\n",
    "                    returns,\n",
    "                    value_pred)\n",
    "            optimizer.zero_grad()\n",
    "            policy_loss.backward()\n",
    "            value_loss.backward()\n",
    "            optimizer.step()\n",
    "            total_policy_loss += policy_loss.item()\n",
    "            total_value_loss += value_loss.item()\n",
    "    return total_policy_loss / ppo_steps, total_value_loss / ppo_steps"
   ]
  },
  {
   "cell_type": "code",
   "execution_count": 12,
   "id": "43a3ac17-62f3-470e-a3ad-5d500cd92234",
   "metadata": {},
   "outputs": [],
   "source": [
    "def evaluate(env, agent):\n",
    "    agent.eval()\n",
    "    rewards = []\n",
    "    done = False\n",
    "    episode_reward = 0\n",
    "    state = env.reset()\n",
    "    while not done:\n",
    "        state = torch.FloatTensor(state).unsqueeze(0)\n",
    "        with torch.no_grad():\n",
    "            action_pred, _ = agent(state)\n",
    "            action_prob = f.softmax(action_pred, dim=-1)\n",
    "        action = torch.argmax(action_prob, dim=-1)\n",
    "        state, reward, done, _ = env.step(action.item())\n",
    "        episode_reward += reward\n",
    "    return episode_reward"
   ]
  },
  {
   "cell_type": "code",
   "execution_count": 13,
   "id": "de95b728-cec8-4c3d-a367-ff8b34aa241a",
   "metadata": {},
   "outputs": [],
   "source": [
    "def plot_train_rewards(train_rewards, reward_threshold):\n",
    "    plt.figure(figsize=(12, 8))\n",
    "    plt.plot(train_rewards, label='Training Reward')\n",
    "    plt.xlabel('Episode', fontsize=20)\n",
    "    plt.ylabel('Training Reward', fontsize=20)\n",
    "    plt.hlines(reward_threshold, 0, len(train_rewards), color='y')\n",
    "    plt.legend(loc='lower right')\n",
    "    plt.grid()\n",
    "    plt.show()"
   ]
  },
  {
   "cell_type": "code",
   "execution_count": 14,
   "id": "845b8576-5be9-4f58-a243-1121162cb3bf",
   "metadata": {},
   "outputs": [],
   "source": [
    "def plot_test_rewards(test_rewards, reward_threshold):\n",
    "    plt.figure(figsize=(12, 8))\n",
    "    plt.plot(test_rewards, label='Testing Reward')\n",
    "    plt.xlabel('Episode', fontsize=20)\n",
    "    plt.ylabel('Testing Reward', fontsize=20)\n",
    "    plt.hlines(reward_threshold, 0, len(test_rewards), color='y')\n",
    "    plt.legend(loc='lower right')\n",
    "    plt.grid()\n",
    "    plt.show()"
   ]
  },
  {
   "cell_type": "code",
   "execution_count": 15,
   "id": "299cf1bd-8800-4618-956c-5b5fdb73f9b3",
   "metadata": {},
   "outputs": [],
   "source": [
    "def plot_losses(policy_losses, value_losses):\n",
    "    plt.figure(figsize=(12, 8))\n",
    "    plt.plot(value_losses, label='Value Losses')\n",
    "    plt.plot(policy_losses, label='Policy Losses')\n",
    "    plt.xlabel('Episode', fontsize=20)\n",
    "    plt.ylabel('Loss', fontsize=20)\n",
    "    plt.legend(loc='lower right')\n",
    "    plt.grid()\n",
    "    plt.show()"
   ]
  },
  {
   "cell_type": "code",
   "execution_count": 16,
   "id": "eae91fe8-1eef-4385-b411-81d410b68e03",
   "metadata": {},
   "outputs": [],
   "source": [
    "def run_ppo():\n",
    "    MAX_EPISODES = 500\n",
    "    DISCOUNT_FACTOR = 0.99\n",
    "    REWARD_THRESHOLD = 475\n",
    "    PRINT_INTERVAL = 10\n",
    "    PPO_STEPS = 8\n",
    "    N_TRIALS = 100\n",
    "    EPSILON = 0.2\n",
    "    ENTROPY_COEFFICIENT = 0.01\n",
    "    HIDDEN_DIMENSIONS = 64\n",
    "    DROPOUT = 0.2\n",
    "    LEARNING_RATE = 0.001\n",
    "    train_rewards = []\n",
    "    test_rewards = []\n",
    "    policy_losses = []\n",
    "    value_losses = []\n",
    "    agent = create_agent(HIDDEN_DIMENSIONS, DROPOUT)\n",
    "    optimizer = optim.Adam(agent.parameters(), lr=LEARNING_RATE)\n",
    "    for episode in range(1, MAX_EPISODES+1):\n",
    "        train_reward, states, actions, actions_log_probability, advantages, returns = forward_pass(\n",
    "                env_train,\n",
    "                agent,\n",
    "                optimizer,\n",
    "                DISCOUNT_FACTOR)\n",
    "        policy_loss, value_loss = update_policy(\n",
    "                agent,\n",
    "                states,\n",
    "                actions,\n",
    "                actions_log_probability,\n",
    "                advantages,\n",
    "                returns,\n",
    "                optimizer,\n",
    "                PPO_STEPS,\n",
    "                EPSILON,\n",
    "                ENTROPY_COEFFICIENT)\n",
    "        test_reward = evaluate(env_test, agent)\n",
    "        policy_losses.append(policy_loss)\n",
    "        value_losses.append(value_loss)\n",
    "        train_rewards.append(train_reward)\n",
    "        test_rewards.append(test_reward)\n",
    "        mean_train_rewards = np.mean(train_rewards[-N_TRIALS:])\n",
    "        mean_test_rewards = np.mean(test_rewards[-N_TRIALS:])\n",
    "        mean_abs_policy_loss = np.mean(np.abs(policy_losses[-N_TRIALS:]))\n",
    "        mean_abs_value_loss = np.mean(np.abs(value_losses[-N_TRIALS:]))\n",
    "        if episode % PRINT_INTERVAL == 0:\n",
    "            print(f'Episode: {episode:3} | \\\n",
    "                  Mean Train Rewards: {mean_train_rewards:3.1f} \\\n",
    "                  | Mean Test Rewards: {mean_test_rewards:3.1f} \\\n",
    "                  | Mean Abs Policy Loss: {mean_abs_policy_loss:2.2f} \\\n",
    "                  | Mean Abs Value Loss: {mean_abs_value_loss:2.2f}')\n",
    "        if mean_test_rewards >= REWARD_THRESHOLD:\n",
    "            print(f'Reached reward threshold in {episode} episodes')\n",
    "            break\n",
    "    plot_train_rewards(train_rewards, REWARD_THRESHOLD)\n",
    "    plot_test_rewards(test_rewards, REWARD_THRESHOLD)\n",
    "    plot_losses(policy_losses, value_losses)"
   ]
  },
  {
   "cell_type": "code",
   "execution_count": 23,
   "id": "33158e35-2262-4b9d-a63d-01d1e3aa9169",
   "metadata": {},
   "outputs": [
    {
     "name": "stderr",
     "output_type": "stream",
     "text": [
      "/var/folders/h5/0dxd7qkj3ls9c04wvb460nhm0000gr/T/ipykernel_71930/3152012367.py:6: UserWarning: Creating a tensor from a list of numpy.ndarrays is extremely slow. Please consider converting the list to a single numpy.ndarray with numpy.array() before converting to a tensor. (Triggered internally at /Users/runner/work/pytorch/pytorch/pytorch/torch/csrc/utils/tensor_new.cpp:257.)\n",
      "  state = torch.FloatTensor(state).unsqueeze(0)\n"
     ]
    },
    {
     "ename": "ValueError",
     "evalue": "expected sequence of length 4 at dim 1 (got 0)",
     "output_type": "error",
     "traceback": [
      "\u001b[0;31m---------------------------------------------------------------------------\u001b[0m",
      "\u001b[0;31mValueError\u001b[0m                                Traceback (most recent call last)",
      "Cell \u001b[0;32mIn[23], line 1\u001b[0m\n\u001b[0;32m----> 1\u001b[0m \u001b[43mrun_ppo\u001b[49m\u001b[43m(\u001b[49m\u001b[43m)\u001b[49m\n",
      "Cell \u001b[0;32mIn[16], line 20\u001b[0m, in \u001b[0;36mrun_ppo\u001b[0;34m()\u001b[0m\n\u001b[1;32m     18\u001b[0m optimizer \u001b[38;5;241m=\u001b[39m optim\u001b[38;5;241m.\u001b[39mAdam(agent\u001b[38;5;241m.\u001b[39mparameters(), lr\u001b[38;5;241m=\u001b[39mLEARNING_RATE)\n\u001b[1;32m     19\u001b[0m \u001b[38;5;28;01mfor\u001b[39;00m episode \u001b[38;5;129;01min\u001b[39;00m \u001b[38;5;28mrange\u001b[39m(\u001b[38;5;241m1\u001b[39m, MAX_EPISODES\u001b[38;5;241m+\u001b[39m\u001b[38;5;241m1\u001b[39m):\n\u001b[0;32m---> 20\u001b[0m     train_reward, states, actions, actions_log_probability, advantages, returns \u001b[38;5;241m=\u001b[39m \u001b[43mforward_pass\u001b[49m\u001b[43m(\u001b[49m\n\u001b[1;32m     21\u001b[0m \u001b[43m            \u001b[49m\u001b[43menv_train\u001b[49m\u001b[43m,\u001b[49m\n\u001b[1;32m     22\u001b[0m \u001b[43m            \u001b[49m\u001b[43magent\u001b[49m\u001b[43m,\u001b[49m\n\u001b[1;32m     23\u001b[0m \u001b[43m            \u001b[49m\u001b[43moptimizer\u001b[49m\u001b[43m,\u001b[49m\n\u001b[1;32m     24\u001b[0m \u001b[43m            \u001b[49m\u001b[43mDISCOUNT_FACTOR\u001b[49m\u001b[43m)\u001b[49m\n\u001b[1;32m     25\u001b[0m     policy_loss, value_loss \u001b[38;5;241m=\u001b[39m update_policy(\n\u001b[1;32m     26\u001b[0m             agent,\n\u001b[1;32m     27\u001b[0m             states,\n\u001b[0;32m   (...)\u001b[0m\n\u001b[1;32m     34\u001b[0m             EPSILON,\n\u001b[1;32m     35\u001b[0m             ENTROPY_COEFFICIENT)\n\u001b[1;32m     36\u001b[0m     test_reward \u001b[38;5;241m=\u001b[39m evaluate(env_test, agent)\n",
      "Cell \u001b[0;32mIn[10], line 6\u001b[0m, in \u001b[0;36mforward_pass\u001b[0;34m(env, agent, optimizer, discount_factor)\u001b[0m\n\u001b[1;32m      4\u001b[0m agent\u001b[38;5;241m.\u001b[39mtrain()\n\u001b[1;32m      5\u001b[0m \u001b[38;5;28;01mwhile\u001b[39;00m \u001b[38;5;129;01mnot\u001b[39;00m done:\n\u001b[0;32m----> 6\u001b[0m     state \u001b[38;5;241m=\u001b[39m \u001b[43mtorch\u001b[49m\u001b[38;5;241;43m.\u001b[39;49m\u001b[43mFloatTensor\u001b[49m\u001b[43m(\u001b[49m\u001b[43mstate\u001b[49m\u001b[43m)\u001b[49m\u001b[38;5;241m.\u001b[39munsqueeze(\u001b[38;5;241m0\u001b[39m)\n\u001b[1;32m      7\u001b[0m     states\u001b[38;5;241m.\u001b[39mappend(state)\n\u001b[1;32m      8\u001b[0m     action_pred, value_pred \u001b[38;5;241m=\u001b[39m agent(state)\n",
      "\u001b[0;31mValueError\u001b[0m: expected sequence of length 4 at dim 1 (got 0)"
     ]
    }
   ],
   "source": [
    "run_ppo()"
   ]
  },
  {
   "cell_type": "code",
   "execution_count": null,
   "id": "8475e8fa-7a3d-49eb-8f78-39cb88eba5ef",
   "metadata": {},
   "outputs": [],
   "source": []
  }
 ],
 "metadata": {
  "kernelspec": {
   "display_name": "jupyter_env",
   "language": "python",
   "name": "jupyter_env"
  },
  "language_info": {
   "codemirror_mode": {
    "name": "ipython",
    "version": 3
   },
   "file_extension": ".py",
   "mimetype": "text/x-python",
   "name": "python",
   "nbconvert_exporter": "python",
   "pygments_lexer": "ipython3",
   "version": "3.10.12"
  }
 },
 "nbformat": 4,
 "nbformat_minor": 5
}
