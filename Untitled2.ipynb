{
 "cells": [
  {
   "cell_type": "code",
   "execution_count": 3,
   "id": "14e373d9-9f9d-4332-9e17-c819becefdf1",
   "metadata": {},
   "outputs": [
    {
     "name": "stderr",
     "output_type": "stream",
     "text": [
      "/Users/larka/jupyter_env/lib/python3.10/site-packages/gymnasium/wrappers/rendering.py:283: UserWarning: \u001b[33mWARN: Overwriting existing videos at /Users/larka/GitHub/RLmodel/cartpole-agent folder (try specifying a different `video_folder` for the `RecordVideo` wrapper if this is not desired)\u001b[0m\n",
      "  logger.warn(\n"
     ]
    },
    {
     "name": "stdout",
     "output_type": "stream",
     "text": [
      "Episode time taken: deque([0.013385, 0.038289, 0.013365, 0.023879], maxlen=4)\n",
      "Episode total rewards: deque([14.0, 44.0, 13.0, 18.0], maxlen=4)\n",
      "Episode lengths: deque([14, 44, 13, 18], maxlen=4)\n"
     ]
    }
   ],
   "source": [
    "import gymnasium as gym\n",
    "from gymnasium.wrappers import RecordEpisodeStatistics, RecordVideo\n",
    "\n",
    "num_eval_episodes = 4\n",
    "\n",
    "env = gym.make(\"CartPole-v1\", render_mode=\"rgb_array\")  # replace with your environment\n",
    "env = RecordVideo(env, video_folder=\"cartpole-agent\", name_prefix=\"eval\",\n",
    "                  episode_trigger=lambda x: True)\n",
    "env = RecordEpisodeStatistics(env, buffer_length=num_eval_episodes)\n",
    "\n",
    "for episode_num in range(num_eval_episodes):\n",
    "    obs, info = env.reset()\n",
    "\n",
    "    episode_over = False\n",
    "    while not episode_over:\n",
    "        action = env.action_space.sample()  # replace with actual agent\n",
    "        obs, reward, terminated, truncated, info = env.step(action)\n",
    "\n",
    "        episode_over = terminated or truncated\n",
    "env.close()\n",
    "\n",
    "print(f'Episode time taken: {env.time_queue}')\n",
    "print(f'Episode total rewards: {env.return_queue}')\n",
    "print(f'Episode lengths: {env.length_queue}')"
   ]
  },
  {
   "cell_type": "code",
   "execution_count": 2,
   "id": "6bc857ab-a263-4d0e-9bd2-f0537d15d444",
   "metadata": {},
   "outputs": [
    {
     "name": "stdout",
     "output_type": "stream",
     "text": [
      "Requirement already satisfied: gymnasium[other] in /Users/larka/jupyter_env/lib/python3.10/site-packages (1.0.0)\n",
      "Requirement already satisfied: typing-extensions>=4.3.0 in /Users/larka/jupyter_env/lib/python3.10/site-packages (from gymnasium[other]) (4.12.2)\n",
      "Requirement already satisfied: cloudpickle>=1.2.0 in /Users/larka/jupyter_env/lib/python3.10/site-packages (from gymnasium[other]) (3.1.1)\n",
      "Requirement already satisfied: farama-notifications>=0.0.1 in /Users/larka/jupyter_env/lib/python3.10/site-packages (from gymnasium[other]) (0.0.4)\n",
      "Requirement already satisfied: numpy>=1.21.0 in /Users/larka/jupyter_env/lib/python3.10/site-packages (from gymnasium[other]) (2.0.2)\n",
      "Requirement already satisfied: matplotlib>=3.0 in /Users/larka/jupyter_env/lib/python3.10/site-packages (from gymnasium[other]) (3.10.0)\n",
      "Collecting moviepy>=1.0.0\n",
      "  Downloading moviepy-2.1.2-py3-none-any.whl (126 kB)\n",
      "\u001b[2K     \u001b[90m━━━━━━━━━━━━━━━━━━━━━━━━━━━━━━━━━━━━━━━\u001b[0m \u001b[32m126.7/126.7 kB\u001b[0m \u001b[31m2.4 MB/s\u001b[0m eta \u001b[36m0:00:00\u001b[0ma \u001b[36m0:00:01\u001b[0m\n",
      "\u001b[?25hCollecting opencv-python>=3.0\n",
      "  Downloading opencv_python-4.11.0.86-cp37-abi3-macosx_13_0_arm64.whl (37.3 MB)\n",
      "\u001b[2K     \u001b[90m━━━━━━━━━━━━━━━━━━━━━━━━━━━━━━━━━━━━━━━━\u001b[0m \u001b[32m37.3/37.3 MB\u001b[0m \u001b[31m38.5 MB/s\u001b[0m eta \u001b[36m0:00:00\u001b[0m00:01\u001b[0m00:01\u001b[0m\n",
      "\u001b[?25hRequirement already satisfied: pillow>=8 in /Users/larka/jupyter_env/lib/python3.10/site-packages (from matplotlib>=3.0->gymnasium[other]) (11.1.0)\n",
      "Requirement already satisfied: contourpy>=1.0.1 in /Users/larka/jupyter_env/lib/python3.10/site-packages (from matplotlib>=3.0->gymnasium[other]) (1.3.1)\n",
      "Requirement already satisfied: cycler>=0.10 in /Users/larka/jupyter_env/lib/python3.10/site-packages (from matplotlib>=3.0->gymnasium[other]) (0.12.1)\n",
      "Requirement already satisfied: fonttools>=4.22.0 in /Users/larka/jupyter_env/lib/python3.10/site-packages (from matplotlib>=3.0->gymnasium[other]) (4.56.0)\n",
      "Requirement already satisfied: pyparsing>=2.3.1 in /Users/larka/jupyter_env/lib/python3.10/site-packages (from matplotlib>=3.0->gymnasium[other]) (3.2.1)\n",
      "Requirement already satisfied: packaging>=20.0 in /Users/larka/jupyter_env/lib/python3.10/site-packages (from matplotlib>=3.0->gymnasium[other]) (24.2)\n",
      "Requirement already satisfied: kiwisolver>=1.3.1 in /Users/larka/jupyter_env/lib/python3.10/site-packages (from matplotlib>=3.0->gymnasium[other]) (1.4.8)\n",
      "Requirement already satisfied: python-dateutil>=2.7 in /Users/larka/jupyter_env/lib/python3.10/site-packages (from matplotlib>=3.0->gymnasium[other]) (2.9.0.post0)\n",
      "Collecting proglog<=1.0.0\n",
      "  Downloading proglog-0.1.10-py3-none-any.whl (6.1 kB)\n",
      "Collecting imageio<3.0,>=2.5\n",
      "  Downloading imageio-2.37.0-py3-none-any.whl (315 kB)\n",
      "\u001b[2K     \u001b[90m━━━━━━━━━━━━━━━━━━━━━━━━━━━━━━━━━━━━━━\u001b[0m \u001b[32m315.8/315.8 kB\u001b[0m \u001b[31m35.9 MB/s\u001b[0m eta \u001b[36m0:00:00\u001b[0m\n",
      "\u001b[?25hRequirement already satisfied: decorator<6.0,>=4.0.2 in /Users/larka/jupyter_env/lib/python3.10/site-packages (from moviepy>=1.0.0->gymnasium[other]) (5.1.1)\n",
      "Collecting imageio_ffmpeg>=0.2.0\n",
      "  Downloading imageio_ffmpeg-0.6.0-py3-none-macosx_11_0_arm64.whl (21.1 MB)\n",
      "\u001b[2K     \u001b[90m━━━━━━━━━━━━━━━━━━━━━━━━━━━━━━━━━━━━━━━━\u001b[0m \u001b[32m21.1/21.1 MB\u001b[0m \u001b[31m45.3 MB/s\u001b[0m eta \u001b[36m0:00:00\u001b[0m00:01\u001b[0m00:01\u001b[0m\n",
      "\u001b[?25hCollecting python-dotenv>=0.10\n",
      "  Downloading python_dotenv-1.0.1-py3-none-any.whl (19 kB)\n",
      "Collecting pillow>=8\n",
      "  Downloading pillow-10.4.0-cp310-cp310-macosx_11_0_arm64.whl (3.4 MB)\n",
      "\u001b[2K     \u001b[90m━━━━━━━━━━━━━━━━━━━━━━━━━━━━━━━━━━━━━━━━\u001b[0m \u001b[32m3.4/3.4 MB\u001b[0m \u001b[31m56.9 MB/s\u001b[0m eta \u001b[36m0:00:00\u001b[0ma \u001b[36m0:00:01\u001b[0m\n",
      "\u001b[?25hRequirement already satisfied: tqdm in /Users/larka/jupyter_env/lib/python3.10/site-packages (from proglog<=1.0.0->moviepy>=1.0.0->gymnasium[other]) (4.67.1)\n",
      "Requirement already satisfied: six>=1.5 in /Users/larka/jupyter_env/lib/python3.10/site-packages (from python-dateutil>=2.7->matplotlib>=3.0->gymnasium[other]) (1.17.0)\n",
      "Installing collected packages: python-dotenv, proglog, pillow, opencv-python, imageio_ffmpeg, imageio, moviepy\n",
      "  Attempting uninstall: pillow\n",
      "    Found existing installation: pillow 11.1.0\n",
      "    Uninstalling pillow-11.1.0:\n",
      "      Successfully uninstalled pillow-11.1.0\n",
      "Successfully installed imageio-2.37.0 imageio_ffmpeg-0.6.0 moviepy-2.1.2 opencv-python-4.11.0.86 pillow-10.4.0 proglog-0.1.10 python-dotenv-1.0.1\n",
      "\n",
      "\u001b[1m[\u001b[0m\u001b[34;49mnotice\u001b[0m\u001b[1;39;49m]\u001b[0m\u001b[39;49m A new release of pip is available: \u001b[0m\u001b[31;49m23.0.1\u001b[0m\u001b[39;49m -> \u001b[0m\u001b[32;49m25.0\u001b[0m\n",
      "\u001b[1m[\u001b[0m\u001b[34;49mnotice\u001b[0m\u001b[1;39;49m]\u001b[0m\u001b[39;49m To update, run: \u001b[0m\u001b[32;49mpip install --upgrade pip\u001b[0m\n"
     ]
    }
   ],
   "source": [
    "!pip install \"gymnasium[other]\""
   ]
  },
  {
   "cell_type": "code",
   "execution_count": 4,
   "id": "22ed47c2-9200-4ee3-b05f-f5965fb498f8",
   "metadata": {},
   "outputs": [
    {
     "name": "stderr",
     "output_type": "stream",
     "text": [
      "/Users/larka/jupyter_env/lib/python3.10/site-packages/gymnasium/wrappers/rendering.py:283: UserWarning: \u001b[33mWARN: Overwriting existing videos at /Users/larka/GitHub/RLmodel/cartpole-agent folder (try specifying a different `video_folder` for the `RecordVideo` wrapper if this is not desired)\u001b[0m\n",
      "  logger.warn(\n"
     ]
    }
   ],
   "source": [
    "import logging\n",
    "\n",
    "import gymnasium as gym\n",
    "from gymnasium.wrappers import RecordEpisodeStatistics, RecordVideo\n",
    "\n",
    "training_period = 250  # record the agent's episode every 250\n",
    "num_training_episodes = 10_000  # total number of training episodes\n",
    "\n",
    "env = gym.make(\"CartPole-v1\", render_mode=\"rgb_array\")  # replace with your environment\n",
    "env = RecordVideo(env, video_folder=\"cartpole-agent\", name_prefix=\"training\",\n",
    "                  episode_trigger=lambda x: x % training_period == 0)\n",
    "env = RecordEpisodeStatistics(env)\n",
    "\n",
    "for episode_num in range(num_training_episodes):\n",
    "    obs, info = env.reset()\n",
    "\n",
    "    episode_over = False\n",
    "    while not episode_over:\n",
    "        action = env.action_space.sample()  # replace with actual agent\n",
    "        obs, reward, terminated, truncated, info = env.step(action)\n",
    "\n",
    "        episode_over = terminated or truncated\n",
    "\n",
    "    logging.info(f\"episode-{episode_num}\", info[\"episode\"])\n",
    "env.close()"
   ]
  },
  {
   "cell_type": "code",
   "execution_count": null,
   "id": "9e25f71a-ad52-4570-9e9d-c09b606641f0",
   "metadata": {},
   "outputs": [],
   "source": []
  }
 ],
 "metadata": {
  "kernelspec": {
   "display_name": "jupyter_env",
   "language": "python",
   "name": "jupyter_env"
  },
  "language_info": {
   "codemirror_mode": {
    "name": "ipython",
    "version": 3
   },
   "file_extension": ".py",
   "mimetype": "text/x-python",
   "name": "python",
   "nbconvert_exporter": "python",
   "pygments_lexer": "ipython3",
   "version": "3.10.12"
  }
 },
 "nbformat": 4,
 "nbformat_minor": 5
}
