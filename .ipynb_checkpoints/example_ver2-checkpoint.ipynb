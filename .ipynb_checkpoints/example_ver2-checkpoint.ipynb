{
 "cells": [
  {
   "cell_type": "code",
   "execution_count": 2,
   "id": "04a7e594-6bd5-4127-8079-dfe26cd43705",
   "metadata": {},
   "outputs": [
    {
     "data": {
      "text/plain": [
       "(27648,)"
      ]
     },
     "execution_count": 2,
     "metadata": {},
     "output_type": "execute_result"
    }
   ],
   "source": [
    "import gymnasium as gym\n",
    "from gymnasium.wrappers import FlattenObservation\n",
    "env = gym.make(\"CarRacing-v3\")\n",
    "env.observation_space.shape\n",
    "#(96, 96, 3)\n",
    "wrapped_env = FlattenObservation(env)\n",
    "wrapped_env.observation_space.shape\n",
    "#(27648,)"
   ]
  },
  {
   "cell_type": "code",
   "execution_count": null,
   "id": "bcbc3875-8dc6-44c7-a8f5-c27b23c42fb3",
   "metadata": {},
   "outputs": [],
   "source": []
  }
 ],
 "metadata": {
  "kernelspec": {
   "display_name": "jupyter_env",
   "language": "python",
   "name": "jupyter_env"
  },
  "language_info": {
   "codemirror_mode": {
    "name": "ipython",
    "version": 3
   },
   "file_extension": ".py",
   "mimetype": "text/x-python",
   "name": "python",
   "nbconvert_exporter": "python",
   "pygments_lexer": "ipython3",
   "version": "3.10.12"
  }
 },
 "nbformat": 4,
 "nbformat_minor": 5
}
